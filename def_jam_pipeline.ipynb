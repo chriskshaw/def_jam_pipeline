{
 "cells": [
  {
   "cell_type": "markdown",
   "id": "68542017",
   "metadata": {},
   "source": [
    "# CREATING TABLES IN SQL"
   ]
  },
  {
   "cell_type": "code",
   "execution_count": 3,
   "id": "28cd322d-cf68-446b-bbfa-815b6f05cf3e",
   "metadata": {},
   "outputs": [],
   "source": [
    "import sqlite3"
   ]
  },
  {
   "cell_type": "code",
   "execution_count": 4,
   "id": "e31c7861-e300-46d1-a18c-aaa1af0053b3",
   "metadata": {},
   "outputs": [],
   "source": [
    "conn = sqlite3.connect('def_jam.db')\n",
    "cursor = conn.cursor()"
   ]
  },
  {
   "cell_type": "code",
   "execution_count": 160,
   "id": "353ea835",
   "metadata": {},
   "outputs": [],
   "source": [
    "create_drop_query = \"\"\"DROP TABLE Medium_Dimensional\"\"\"\n",
    "\n",
    "\n",
    "cursor.execute(create_drop_query)\n",
    "conn.commit()"
   ]
  },
  {
   "cell_type": "code",
   "execution_count": 58,
   "id": "f9afb01a-2524-4e9c-860c-c8666fa624f4",
   "metadata": {},
   "outputs": [],
   "source": [
    "create_Track_table_query = \"\"\" CREATE TABLE  Track_Dimensional\n",
    "(Track_ID INTEGER PRIMARY KEY NOT NULL UNIQUE,\n",
    "Track_Name TEXT NOT NULL,\n",
    "Track_Duration NUMERIC NOT NULL,\n",
    "Track_Language TEXT NOT NULL)\"\"\""
   ]
  },
  {
   "cell_type": "code",
   "execution_count": 59,
   "id": "1acfc9ae-96b4-4104-bdd2-8f6aa09af3b3",
   "metadata": {},
   "outputs": [
    {
     "ename": "OperationalError",
     "evalue": "table Track_Dimensional already exists",
     "output_type": "error",
     "traceback": [
      "\u001b[1;31m---------------------------------------------------------------------------\u001b[0m",
      "\u001b[1;31mOperationalError\u001b[0m                          Traceback (most recent call last)",
      "\u001b[1;32mc:\\Users\\chris\\OneDrive\\Big Data\\group pipeline.ipynb Cell 6\u001b[0m in \u001b[0;36m<cell line: 1>\u001b[1;34m()\u001b[0m\n\u001b[1;32m----> <a href='vscode-notebook-cell:/c%3A/Users/chris/OneDrive/Big%20Data/group%20pipeline.ipynb#ch0000005?line=0'>1</a>\u001b[0m cursor\u001b[39m.\u001b[39;49mexecute(create_Track_table_query)\n\u001b[0;32m      <a href='vscode-notebook-cell:/c%3A/Users/chris/OneDrive/Big%20Data/group%20pipeline.ipynb#ch0000005?line=1'>2</a>\u001b[0m conn\u001b[39m.\u001b[39mcommit()\n",
      "\u001b[1;31mOperationalError\u001b[0m: table Track_Dimensional already exists"
     ]
    }
   ],
   "source": [
    "cursor.execute(create_Track_table_query)\n",
    "conn.commit()"
   ]
  },
  {
   "cell_type": "code",
   "execution_count": 108,
   "id": "2be1d550-a123-4548-818a-767f2cab69fe",
   "metadata": {},
   "outputs": [],
   "source": [
    "create_Album_table_query = \"\"\" CREATE TABLE Album_Dimensional\n",
    "(Album_ID INTEGER PRIMARY KEY NOT NULL UNIQUE,\n",
    "Album_Name TEXT NOT NULL,\n",
    "Album_Track_Number INTEGER NOT NULL,\n",
    "Album_Release_Year INTEGER NOT NULL)\"\"\""
   ]
  },
  {
   "cell_type": "code",
   "execution_count": 109,
   "id": "25532f3d-292b-4196-bd21-233c3620f572",
   "metadata": {},
   "outputs": [],
   "source": [
    "cursor.execute(create_Album_table_query)\n",
    "conn.commit()"
   ]
  },
  {
   "cell_type": "code",
   "execution_count": 161,
   "id": "6443b5ec-bcc6-431a-8ccf-7c4fb08a7369",
   "metadata": {},
   "outputs": [],
   "source": [
    "create_Medium_table_query = \"\"\" CREATE TABLE Medium_Dimensional\n",
    "(Medium_ID INTEGER PRIMARY KEY,\n",
    "Medium_Name STRING NOT NULL,\n",
    "Device_ID INTEGER NOT NULL UNIQUE,\n",
    "FOREIGN KEY(Device_ID) REFERENCES Device_Dimensional(Device_ID))\"\"\""
   ]
  },
  {
   "cell_type": "code",
   "execution_count": 162,
   "id": "918a636f-c50e-457f-84a3-1d08c3ad6bea",
   "metadata": {},
   "outputs": [],
   "source": [
    "cursor.execute(create_Medium_table_query)\n",
    "conn.commit()"
   ]
  },
  {
   "cell_type": "code",
   "execution_count": 115,
   "id": "503ec484-7f75-4de9-94d3-faaddef629da",
   "metadata": {},
   "outputs": [],
   "source": [
    "create_Genre_table_query = \"\"\" CREATE TABLE Genre_Dimensional\n",
    "(Genre_ID INTEGER PRIMARY KEY NOT NULL UNIQUE,\n",
    "Genre_Name TEXT NOT NULL)\"\"\""
   ]
  },
  {
   "cell_type": "code",
   "execution_count": 116,
   "id": "f3682f16-d42c-449d-9a43-ef90cb8fa2fc",
   "metadata": {},
   "outputs": [],
   "source": [
    "cursor.execute(create_Genre_table_query)\n",
    "conn.commit()"
   ]
  },
  {
   "cell_type": "code",
   "execution_count": 146,
   "id": "1261b91b-f0e5-467d-8fb7-21fb7dcf0ae9",
   "metadata": {},
   "outputs": [],
   "source": [
    "create_device_dimension_table_query = \"\"\" CREATE TABLE  Device_Dimensional\n",
    "(Device_ID INTEGER PRIMARY KEY NOT NULL UNIQUE,\n",
    "Device_Type TEXT NOT NULL\n",
    ")\"\"\""
   ]
  },
  {
   "cell_type": "code",
   "execution_count": 147,
   "id": "40b814f8-f4e0-42eb-99de-d3b1f5140db8",
   "metadata": {},
   "outputs": [],
   "source": [
    "cursor.execute(create_device_dimension_table_query)\n",
    "conn.commit()"
   ]
  },
  {
   "cell_type": "code",
   "execution_count": 185,
   "id": "ca54cbba-d1c4-4ed5-9c74-75b8654a78c7",
   "metadata": {},
   "outputs": [],
   "source": [
    "create_Employee_Table_query = \"\"\" CREATE TABLE  Employee_Dimensional\n",
    "(Employee_ID INTEGER PRIMARY KEY NOT NULL UNIQUE,\n",
    "Employee_FirstName TEXT NOT NULL,\n",
    "Employee_LastName TEXT NOT NULL,\n",
    "Employee_Email VARCHAR NOT NULL UNIQUE,\n",
    "Employee_Region TEXT NOT NULL,\n",
    "Employee_Role_Title TEXT NOT NULL)\"\"\""
   ]
  },
  {
   "cell_type": "code",
   "execution_count": 186,
   "id": "3f5f793c-2b67-46c2-ab25-41ca27ff46e1",
   "metadata": {},
   "outputs": [],
   "source": [
    "cursor.execute(create_Employee_Table_query)\n",
    "conn.commit()"
   ]
  },
  {
   "cell_type": "code",
   "execution_count": 7,
   "id": "60cbf640-b276-4e77-be2b-b6a4f7b3784a",
   "metadata": {},
   "outputs": [],
   "source": [
    "create_Date_Table_query = \"\"\" CREATE TABLE  Date_Dimensional\n",
    "(Date_ID INTEGER PRIMARY KEY NOT NULL UNIQUE,\n",
    "Date DATE NOT NULL,\n",
    "Day INTEGER NOT NULL,\n",
    "DayOfTheWeek TEXT NOT NULL,\n",
    "Month TEXT NOT NULL,\n",
    "Year INTEGER NOT NULL)\"\"\""
   ]
  },
  {
   "cell_type": "code",
   "execution_count": 8,
   "id": "4d0933b0-bc0e-4126-9c93-4812e6bdc00c",
   "metadata": {},
   "outputs": [],
   "source": [
    "cursor.execute(create_Date_Table_query)\n",
    "conn.commit()"
   ]
  },
  {
   "cell_type": "code",
   "execution_count": 127,
   "id": "960d38a8-dac2-4929-ad84-565724417757",
   "metadata": {},
   "outputs": [],
   "source": [
    "create_Artist_Dimensional_Table = \"\"\" CREATE TABLE  Artist_Dimensional\n",
    "(Artist_ID INTEGER PRIMARY KEY NOT NULL UNIQUE,\n",
    "Artist_name VARCHAR(50) NOT NULL UNIQUE,\n",
    "Country_of_origin TEXT NOT NULL)\"\"\""
   ]
  },
  {
   "cell_type": "code",
   "execution_count": 128,
   "id": "9849bebc-5542-43c6-b92a-6725706f537f",
   "metadata": {},
   "outputs": [],
   "source": [
    "\n",
    "cursor.execute(create_Artist_Dimensional_Table)\n",
    "conn.commit()"
   ]
  },
  {
   "cell_type": "code",
   "execution_count": 181,
   "id": "1b76bddb-7fa4-4216-8e3e-f9f9daabfaab",
   "metadata": {},
   "outputs": [],
   "source": [
    "create_Location_Dimensional_Table = \"\"\" CREATE TABLE  Location_Dimensional\n",
    "(Location_ID INTEGER PRIMARY KEY NOT NULL UNIQUE,\n",
    "City TEXT NOT NULL,\n",
    "State TEXT NOT NULL,\n",
    "Country TEXT NOT NULL)\"\"\"\n"
   ]
  },
  {
   "cell_type": "code",
   "execution_count": 182,
   "id": "ebda9ca2-df80-46a9-ae50-1f85a1dbbe67",
   "metadata": {},
   "outputs": [],
   "source": [
    "cursor.execute(create_Location_Dimensional_Table)\n",
    "conn.commit()"
   ]
  },
  {
   "cell_type": "code",
   "execution_count": 131,
   "id": "6490af7a-52ed-41c7-9354-87215b3667af",
   "metadata": {},
   "outputs": [],
   "source": [
    "create_Customer_Dimensional_Table = \"\"\" CREATE TABLE  Customer_Dimensional\n",
    "(Customer_ID INTEGER PRIMARY KEY NOT NULL UNIQUE,\n",
    "Customer_Rep_ID INTEGER NOT NULL,\n",
    "Customer_Name TEXT NOT NULL,\n",
    "Customer_DOB DATE NOT NULL,\n",
    "Customer_Gender TEXT NOT NULL,\n",
    "Customer_City TEXT NOT NULL,\n",
    "Customer_Country TEXT NOT NULL,\n",
    "Customer_Postal_Code VARCHAR(20) NOT NULL,\n",
    "Customer_Email VARCHAR(50) NOT NULL,\n",
    "Customer_Phone_Number VARCHAR(20) NOT NULL,\n",
    "FOREIGN KEY(Customer_Rep_ID) REFERENCES Employee_Dimensional(Employee_ID))\"\"\""
   ]
  },
  {
   "cell_type": "code",
   "execution_count": 132,
   "id": "f77bcf33-1816-42d8-90ae-e2448c428f5b",
   "metadata": {
    "tags": []
   },
   "outputs": [],
   "source": [
    "cursor.execute(create_Customer_Dimensional_Table)\n",
    "conn.commit()"
   ]
  },
  {
   "cell_type": "code",
   "execution_count": 73,
   "id": "ff088fa2-33f5-4893-a517-cc7295d26b9e",
   "metadata": {},
   "outputs": [],
   "source": [
    "create_Marketing_Fact_table_query = \"\"\" CREATE TABLE  Marketing_Campaign_Fact\n",
    "(Marketing_Campaign INTEGER PRIMARY KEY NOT NULL UNIQUE,\n",
    "Conversion_Rate FLOAT NOT NULL,\n",
    "Location_ID INTEGER NOT NULL UNIQUE,\n",
    "Customer_ID INTEGER NOT NULL UNIQUE,\n",
    "Date_ID INTEGER NOT NULL UNIQUE,\n",
    "Employee_ID INTEGER NOT NULL UNIQUE,\n",
    "Artist_ID INTEGER NOT NULL UNIQUE,\n",
    "FOREIGN KEY(Artist_ID) REFERENCES Artist_Dimensional(Artist_ID),\n",
    "FOREIGN KEY(Location_ID) REFERENCES Location_Dimensional(Location_ID),\n",
    "FOREIGN KEY(Customer_ID) REFERENCES Customer_Dimensional(Customer_ID),\n",
    "FOREIGN KEY(Date_ID) REFERENCES Date_Dimensional(Date_ID),\n",
    "FOREIGN KEY(Employee_ID) REFERENCES Employee_Dimensional(Employee_ID))\"\"\""
   ]
  },
  {
   "cell_type": "code",
   "execution_count": 74,
   "id": "8b0417aa-b7f6-4327-a106-92bcbfb1b347",
   "metadata": {},
   "outputs": [],
   "source": [
    "cursor.execute(create_Marketing_Fact_table_query)\n",
    "conn.commit()"
   ]
  },
  {
   "cell_type": "code",
   "execution_count": 93,
   "id": "96390e00-e668-4461-8023-6ef14902e8d0",
   "metadata": {},
   "outputs": [],
   "source": [
    "create_review_fact_table_query = \"\"\" CREATE TABLE  Review_Fact\n",
    "(Review_ID INTEGER PRIMARY KEY NOT NULL UNIQUE,\n",
    "Artist_ID INTEGER NOT NULL,\n",
    "Customer_ID INTEGER NOT NULL,\n",
    "Medium_ID INTEGER NOT NULL,\n",
    "Date_ID INTEGER NOT NULL,\n",
    "Location_ID INTEGER NOT NULL,\n",
    "Rating NUMERIC NOT NULL,\n",
    "Review_Sentiment TEXT NOT NULL,\n",
    "FOREIGN KEY(Artist_ID) REFERENCES Artist_Dimensional(Artist_ID),\n",
    "FOREIGN KEY(Customer_ID) REFERENCES Customer_Dimensional(Customer_ID),\n",
    "FOREIGN KEY(Medium_ID) REFERENCES Medium_Dimensional(Medium_ID),\n",
    "FOREIGN KEY(Date_ID) REFERENCES Date_Table_Dimensional(Date_ID),\n",
    "FOREIGN KEY(Location_ID) REFERENCES Location_Dimensional(Location_ID))\"\"\""
   ]
  },
  {
   "cell_type": "code",
   "execution_count": 94,
   "id": "dc7ad60f-c30b-4d6d-b8fc-7aec94cbb87e",
   "metadata": {},
   "outputs": [],
   "source": [
    "cursor.execute(create_review_fact_table_query)\n",
    "conn.commit()"
   ]
  },
  {
   "cell_type": "code",
   "execution_count": 87,
   "id": "8c719a39-ceff-4ad2-a211-756519376839",
   "metadata": {},
   "outputs": [],
   "source": [
    "create_Sales_Fact_table_query = \"\"\" CREATE TABLE  Sales_Fact\n",
    "(Order_ID INTEGER PRIMARY KEY NOT NULL UNIQUE,\n",
    "Artist_ID INTEGER NOT NULL,\n",
    "Track_ID INTEGER NOT NULL,\n",
    "Location_ID INTEGER NOT NULL,\n",
    "Medium_ID INTEGER NOT NULL,\n",
    "Album_ID INTEGER NOT NULL,\n",
    "Customer_ID INTEGER NOT NULL,\n",
    "Genre_ID INTEGER NOT NULL,\n",
    "Date_ID INTEGER NOT NULL,\n",
    "Units_Sold INTEGER NOT NULL,\n",
    "Revenue NUMERIC NOT NULL,\n",
    "FOREIGN KEY(Artist_ID) REFERENCES Artist_Dimensional(Artist_ID),\n",
    "FOREIGN KEY(Location_ID) REFERENCES Location_Dimensional(Location_ID),\n",
    "FOREIGN KEY(Customer_ID) REFERENCES Customer_Dimensional(Customer_ID),\n",
    "FOREIGN KEY(Date_ID) REFERENCES Date_Dimensional(Date_ID),\n",
    "FOREIGN KEY(Album_ID) REFERENCES Album_Dimensional(Album_ID),\n",
    "FOREIGN KEY(Track_ID) REFERENCES Track_Dimensional(Track_ID),\n",
    "FOREIGN KEY(Medium_ID) REFERENCES Medium_Dimensional(Medium_ID),\n",
    "FOREIGN KEY(Genre_ID) REFERENCES Genre_Dimensional(Genre_ID))\"\"\""
   ]
  },
  {
   "cell_type": "code",
   "execution_count": 88,
   "id": "2001fce6-4d15-41f4-9735-30beb31bc516",
   "metadata": {},
   "outputs": [],
   "source": [
    "cursor.execute(create_Sales_Fact_table_query)\n",
    "conn.commit()"
   ]
  },
  {
   "cell_type": "markdown",
   "id": "e22346d3",
   "metadata": {},
   "source": [
    "# IMPORTING EXCEL FILES AND TRANSFORMATIONS"
   ]
  },
  {
   "cell_type": "code",
   "execution_count": 10,
   "id": "e4fd28c8-2a89-499b-aafe-7b8e5cc6b987",
   "metadata": {},
   "outputs": [],
   "source": [
    "import pandas as pd"
   ]
  },
  {
   "cell_type": "code",
   "execution_count": 98,
   "id": "64b9eaad",
   "metadata": {},
   "outputs": [],
   "source": [
    "albums = pd.read_excel(\"Album_Table.xlsx\")"
   ]
  },
  {
   "cell_type": "code",
   "execution_count": 99,
   "id": "d23d6288",
   "metadata": {},
   "outputs": [
    {
     "data": {
      "text/html": [
       "<div>\n",
       "<style scoped>\n",
       "    .dataframe tbody tr th:only-of-type {\n",
       "        vertical-align: middle;\n",
       "    }\n",
       "\n",
       "    .dataframe tbody tr th {\n",
       "        vertical-align: top;\n",
       "    }\n",
       "\n",
       "    .dataframe thead th {\n",
       "        text-align: right;\n",
       "    }\n",
       "</style>\n",
       "<table border=\"1\" class=\"dataframe\">\n",
       "  <thead>\n",
       "    <tr style=\"text-align: right;\">\n",
       "      <th></th>\n",
       "      <th>Album_ID</th>\n",
       "      <th>Album_Name</th>\n",
       "      <th>Album_Track_Number</th>\n",
       "      <th>Album_Release_Year</th>\n",
       "    </tr>\n",
       "  </thead>\n",
       "  <tbody>\n",
       "    <tr>\n",
       "      <th>0</th>\n",
       "      <td>320301.0</td>\n",
       "      <td>Donda</td>\n",
       "      <td>18.0</td>\n",
       "      <td>2021.0</td>\n",
       "    </tr>\n",
       "    <tr>\n",
       "      <th>1</th>\n",
       "      <td>320302.0</td>\n",
       "      <td>Confessions of a Dangerous Mind</td>\n",
       "      <td>10.0</td>\n",
       "      <td>2019.0</td>\n",
       "    </tr>\n",
       "    <tr>\n",
       "      <th>2</th>\n",
       "      <td>320303.0</td>\n",
       "      <td>Bigger and Deffer</td>\n",
       "      <td>12.0</td>\n",
       "      <td>1987.0</td>\n",
       "    </tr>\n",
       "    <tr>\n",
       "      <th>3</th>\n",
       "      <td>320304.0</td>\n",
       "      <td>Kids See Ghosts</td>\n",
       "      <td>11.0</td>\n",
       "      <td>1988.0</td>\n",
       "    </tr>\n",
       "    <tr>\n",
       "      <th>4</th>\n",
       "      <td>320305.0</td>\n",
       "      <td>It Takes a Nation of Millions to Hold Us Back</td>\n",
       "      <td>15.0</td>\n",
       "      <td>1988.0</td>\n",
       "    </tr>\n",
       "    <tr>\n",
       "      <th>5</th>\n",
       "      <td>320306.0</td>\n",
       "      <td>Late Nights</td>\n",
       "      <td>13.0</td>\n",
       "      <td>2014.0</td>\n",
       "    </tr>\n",
       "    <tr>\n",
       "      <th>6</th>\n",
       "      <td>320307.0</td>\n",
       "      <td>Johnson Family Vacation</td>\n",
       "      <td>14.0</td>\n",
       "      <td>2004.0</td>\n",
       "    </tr>\n",
       "    <tr>\n",
       "      <th>7</th>\n",
       "      <td>320308.0</td>\n",
       "      <td>B.O.A.T.S. II: Me Time</td>\n",
       "      <td>15.0</td>\n",
       "      <td>2013.0</td>\n",
       "    </tr>\n",
       "    <tr>\n",
       "      <th>8</th>\n",
       "      <td>320309.0</td>\n",
       "      <td>Channel Orange</td>\n",
       "      <td>18.0</td>\n",
       "      <td>2012.0</td>\n",
       "    </tr>\n",
       "    <tr>\n",
       "      <th>9</th>\n",
       "      <td>320310.0</td>\n",
       "      <td>Summertime '06</td>\n",
       "      <td>20.0</td>\n",
       "      <td>2015.0</td>\n",
       "    </tr>\n",
       "  </tbody>\n",
       "</table>\n",
       "</div>"
      ],
      "text/plain": [
       "   Album_ID                                     Album_Name  \\\n",
       "0  320301.0                                          Donda   \n",
       "1  320302.0                Confessions of a Dangerous Mind   \n",
       "2  320303.0                              Bigger and Deffer   \n",
       "3  320304.0                                Kids See Ghosts   \n",
       "4  320305.0  It Takes a Nation of Millions to Hold Us Back   \n",
       "5  320306.0                                    Late Nights   \n",
       "6  320307.0                        Johnson Family Vacation   \n",
       "7  320308.0                         B.O.A.T.S. II: Me Time   \n",
       "8  320309.0                                 Channel Orange   \n",
       "9  320310.0                                 Summertime '06   \n",
       "\n",
       "   Album_Track_Number  Album_Release_Year  \n",
       "0                18.0              2021.0  \n",
       "1                10.0              2019.0  \n",
       "2                12.0              1987.0  \n",
       "3                11.0              1988.0  \n",
       "4                15.0              1988.0  \n",
       "5                13.0              2014.0  \n",
       "6                14.0              2004.0  \n",
       "7                15.0              2013.0  \n",
       "8                18.0              2012.0  \n",
       "9                20.0              2015.0  "
      ]
     },
     "execution_count": 99,
     "metadata": {},
     "output_type": "execute_result"
    }
   ],
   "source": [
    "albums"
   ]
  },
  {
   "cell_type": "code",
   "execution_count": 100,
   "id": "1152b3ee",
   "metadata": {},
   "outputs": [],
   "source": [
    "albums['Album_ID'] = albums['Album_ID'].astype(\"string\")\n",
    "albums['Album_Track_Number'] = albums['Album_Track_Number'].astype(float)\n",
    "albums['Album_Release_Year'] = albums['Album_Release_Year'].astype(\"string\")\n",
    "albums['Album_Name'] = albums['Album_Name'].astype(\"string\")"
   ]
  },
  {
   "cell_type": "code",
   "execution_count": 101,
   "id": "272c7d7d",
   "metadata": {},
   "outputs": [
    {
     "name": "stdout",
     "output_type": "stream",
     "text": [
      "<class 'pandas.core.frame.DataFrame'>\n",
      "RangeIndex: 10 entries, 0 to 9\n",
      "Data columns (total 4 columns):\n",
      " #   Column              Non-Null Count  Dtype  \n",
      "---  ------              --------------  -----  \n",
      " 0   Album_ID            10 non-null     string \n",
      " 1   Album_Name          10 non-null     string \n",
      " 2   Album_Track_Number  10 non-null     float64\n",
      " 3   Album_Release_Year  10 non-null     string \n",
      "dtypes: float64(1), string(3)\n",
      "memory usage: 448.0 bytes\n"
     ]
    }
   ],
   "source": [
    "albums.info()"
   ]
  },
  {
   "cell_type": "code",
   "execution_count": 112,
   "id": "79501714",
   "metadata": {},
   "outputs": [],
   "source": [
    "artists_review = pd.read_excel(\"Artist_Review_Table.xlsx\")"
   ]
  },
  {
   "cell_type": "code",
   "execution_count": 115,
   "id": "4e7ff70e",
   "metadata": {},
   "outputs": [
    {
     "name": "stdout",
     "output_type": "stream",
     "text": [
      "<class 'pandas.core.frame.DataFrame'>\n",
      "RangeIndex: 10 entries, 0 to 9\n",
      "Data columns (total 8 columns):\n",
      " #   Column            Non-Null Count  Dtype  \n",
      "---  ------            --------------  -----  \n",
      " 0   Review_ID         10 non-null     string \n",
      " 1   Artist_ID         10 non-null     string \n",
      " 2   Customer_ID       10 non-null     string \n",
      " 3   Medium_ID         10 non-null     string \n",
      " 4   Date_ID           10 non-null     string \n",
      " 5   Location_ID       10 non-null     string \n",
      " 6   Rating            10 non-null     float64\n",
      " 7   Review_Sentiment  10 non-null     string \n",
      "dtypes: float64(1), string(7)\n",
      "memory usage: 768.0 bytes\n"
     ]
    }
   ],
   "source": [
    "artists_review.info()"
   ]
  },
  {
   "cell_type": "code",
   "execution_count": 114,
   "id": "0e201f2f",
   "metadata": {},
   "outputs": [],
   "source": [
    "artists_review['Review_ID'] = artists_review['Review_ID'].astype(\"string\")\n",
    "artists_review['Artist_ID'] = artists_review['Artist_ID'].astype(\"string\")\n",
    "artists_review['Customer_ID'] = artists_review['Customer_ID'].astype(\"string\")\n",
    "artists_review['Date_ID'] = artists_review['Date_ID'].astype(\"string\")\n",
    "artists_review['Medium_ID'] = artists_review['Medium_ID'].astype(\"string\")\n",
    "artists_review['Location_ID'] = artists_review['Location_ID'].astype(\"string\")\n",
    "artists_review['Review_Sentiment'] = artists_review['Review_Sentiment'].astype(\"string\")\n"
   ]
  },
  {
   "cell_type": "code",
   "execution_count": 138,
   "id": "7ee61aff",
   "metadata": {},
   "outputs": [],
   "source": [
    "artists = pd.read_excel(\"Artist_Table.xlsx\")"
   ]
  },
  {
   "cell_type": "code",
   "execution_count": 140,
   "id": "98c01202",
   "metadata": {},
   "outputs": [
    {
     "data": {
      "text/html": [
       "<div>\n",
       "<style scoped>\n",
       "    .dataframe tbody tr th:only-of-type {\n",
       "        vertical-align: middle;\n",
       "    }\n",
       "\n",
       "    .dataframe tbody tr th {\n",
       "        vertical-align: top;\n",
       "    }\n",
       "\n",
       "    .dataframe thead th {\n",
       "        text-align: right;\n",
       "    }\n",
       "</style>\n",
       "<table border=\"1\" class=\"dataframe\">\n",
       "  <thead>\n",
       "    <tr style=\"text-align: right;\">\n",
       "      <th></th>\n",
       "      <th>Artist_ID</th>\n",
       "      <th>Artist_Name</th>\n",
       "      <th>Country_of_Origin</th>\n",
       "    </tr>\n",
       "  </thead>\n",
       "  <tbody>\n",
       "    <tr>\n",
       "      <th>0</th>\n",
       "      <td>501321</td>\n",
       "      <td>Kanye West</td>\n",
       "      <td>USA</td>\n",
       "    </tr>\n",
       "    <tr>\n",
       "      <th>1</th>\n",
       "      <td>501322</td>\n",
       "      <td>Logic</td>\n",
       "      <td>USA</td>\n",
       "    </tr>\n",
       "    <tr>\n",
       "      <th>2</th>\n",
       "      <td>501323</td>\n",
       "      <td>LL Cool J</td>\n",
       "      <td>USA</td>\n",
       "    </tr>\n",
       "    <tr>\n",
       "      <th>3</th>\n",
       "      <td>501324</td>\n",
       "      <td>Kids See Ghosts</td>\n",
       "      <td>USA</td>\n",
       "    </tr>\n",
       "    <tr>\n",
       "      <th>4</th>\n",
       "      <td>501325</td>\n",
       "      <td>Public Enemy</td>\n",
       "      <td>USA</td>\n",
       "    </tr>\n",
       "    <tr>\n",
       "      <th>5</th>\n",
       "      <td>501326</td>\n",
       "      <td>Jeremih</td>\n",
       "      <td>USA</td>\n",
       "    </tr>\n",
       "    <tr>\n",
       "      <th>6</th>\n",
       "      <td>501327</td>\n",
       "      <td>Joe Budden</td>\n",
       "      <td>USA</td>\n",
       "    </tr>\n",
       "    <tr>\n",
       "      <th>7</th>\n",
       "      <td>501328</td>\n",
       "      <td>2 Chainz</td>\n",
       "      <td>USA</td>\n",
       "    </tr>\n",
       "    <tr>\n",
       "      <th>8</th>\n",
       "      <td>501329</td>\n",
       "      <td>Frank Ocean</td>\n",
       "      <td>USA</td>\n",
       "    </tr>\n",
       "    <tr>\n",
       "      <th>9</th>\n",
       "      <td>501330</td>\n",
       "      <td>Vince Staples</td>\n",
       "      <td>USA</td>\n",
       "    </tr>\n",
       "  </tbody>\n",
       "</table>\n",
       "</div>"
      ],
      "text/plain": [
       "   Artist_ID      Artist_Name Country_of_Origin\n",
       "0     501321       Kanye West               USA\n",
       "1     501322            Logic               USA\n",
       "2     501323        LL Cool J               USA\n",
       "3     501324  Kids See Ghosts               USA\n",
       "4     501325     Public Enemy               USA\n",
       "5     501326          Jeremih               USA\n",
       "6     501327       Joe Budden               USA\n",
       "7     501328         2 Chainz               USA\n",
       "8     501329      Frank Ocean               USA\n",
       "9     501330    Vince Staples               USA"
      ]
     },
     "execution_count": 140,
     "metadata": {},
     "output_type": "execute_result"
    }
   ],
   "source": [
    "artists"
   ]
  },
  {
   "cell_type": "code",
   "execution_count": 142,
   "id": "38039f2e",
   "metadata": {},
   "outputs": [],
   "source": [
    "artists['Artist_ID'] = artists['Artist_ID'].astype(\"string\")\n",
    "artists['Artist_Name'] = artists['Artist_Name'].astype(\"string\")\n",
    "artists['Country_of_Origin'] = artists['Country_of_Origin'].astype(\"string\")\n"
   ]
  },
  {
   "cell_type": "code",
   "execution_count": 137,
   "id": "ade735c7",
   "metadata": {},
   "outputs": [],
   "source": [
    "customers = pd.read_excel(\"Customer_Table.xlsx\")"
   ]
  },
  {
   "cell_type": "code",
   "execution_count": 138,
   "id": "cca0d2eb",
   "metadata": {},
   "outputs": [
    {
     "data": {
      "text/plain": [
       "Index(['Customer_ID', 'Customer_Rep_ID', 'Customer_Name', 'Customer_DOB',\n",
       "       'Customer_Gender', 'Customer_City', 'Customer_Country',\n",
       "       'Customer_Postal_Code', 'Customer_Email', 'Customer_Phone_Number'],\n",
       "      dtype='object')"
      ]
     },
     "execution_count": 138,
     "metadata": {},
     "output_type": "execute_result"
    }
   ],
   "source": [
    "customers.columns"
   ]
  },
  {
   "cell_type": "code",
   "execution_count": 141,
   "id": "e010c92c",
   "metadata": {},
   "outputs": [
    {
     "name": "stdout",
     "output_type": "stream",
     "text": [
      "<class 'pandas.core.frame.DataFrame'>\n",
      "RangeIndex: 10 entries, 0 to 9\n",
      "Data columns (total 10 columns):\n",
      " #   Column                 Non-Null Count  Dtype \n",
      "---  ------                 --------------  ----- \n",
      " 0   Customer_ID            10 non-null     string\n",
      " 1   Customer_Rep_ID        10 non-null     string\n",
      " 2   Customer_Name          10 non-null     string\n",
      " 3   Customer_DOB           10 non-null     string\n",
      " 4   Customer_Gender        10 non-null     string\n",
      " 5   Customer_City          10 non-null     string\n",
      " 6   Customer_Country       10 non-null     string\n",
      " 7   Customer_Postal_Code   10 non-null     string\n",
      " 8   Customer_Email         10 non-null     string\n",
      " 9   Customer_Phone_Number  10 non-null     string\n",
      "dtypes: string(10)\n",
      "memory usage: 928.0 bytes\n"
     ]
    }
   ],
   "source": [
    "customers.info()"
   ]
  },
  {
   "cell_type": "code",
   "execution_count": 140,
   "id": "9b829285",
   "metadata": {},
   "outputs": [],
   "source": [
    "customers['Customer_ID'] = customers['Customer_ID'].astype(\"string\")\n",
    "customers['Customer_Rep_ID'] = customers['Customer_Rep_ID'].astype(\"string\")\n",
    "customers['Customer_Name'] = customers['Customer_Name'].astype(\"string\")\n",
    "customers['Customer_Gender'] = customers['Customer_Gender'].astype(\"string\")\n",
    "customers['Customer_City'] = customers['Customer_City'].astype(\"string\")\n",
    "customers['Customer_Country'] = customers['Customer_Country'].astype(\"string\")\n",
    "customers['Customer_Email'] = customers['Customer_Email'].astype(\"string\")\n",
    "customers['Customer_Phone_Number'] = customers['Customer_Phone_Number'].astype(\"string\")\n",
    "customers['Customer_Postal_Code'] = customers['Customer_Postal_Code'].astype(\"string\")\n",
    "customers['Customer_DOB'] = customers['Customer_DOB'].astype(\"string\")"
   ]
  },
  {
   "cell_type": "code",
   "execution_count": 148,
   "id": "fec38003",
   "metadata": {},
   "outputs": [],
   "source": [
    "devices = pd.read_excel(\"Device_Dimensional.xlsx\")"
   ]
  },
  {
   "cell_type": "code",
   "execution_count": 151,
   "id": "1b1a72c7",
   "metadata": {},
   "outputs": [
    {
     "name": "stdout",
     "output_type": "stream",
     "text": [
      "<class 'pandas.core.frame.DataFrame'>\n",
      "RangeIndex: 4 entries, 0 to 3\n",
      "Data columns (total 2 columns):\n",
      " #   Column       Non-Null Count  Dtype \n",
      "---  ------       --------------  ----- \n",
      " 0   Device_ID    4 non-null      string\n",
      " 1   Device_Type  4 non-null      string\n",
      "dtypes: string(2)\n",
      "memory usage: 192.0 bytes\n"
     ]
    }
   ],
   "source": [
    "devices.info()"
   ]
  },
  {
   "cell_type": "code",
   "execution_count": 150,
   "id": "1712638b",
   "metadata": {},
   "outputs": [],
   "source": [
    "devices['Device_ID'] = devices['Device_ID'].astype(\"string\")\n",
    "devices['Device_Type'] = devices['Device_Type'].astype(\"string\")"
   ]
  },
  {
   "cell_type": "code",
   "execution_count": 11,
   "id": "d55ea2f3",
   "metadata": {},
   "outputs": [],
   "source": [
    "dates = pd.read_excel(\"Date_Table.xlsx\")"
   ]
  },
  {
   "cell_type": "code",
   "execution_count": 12,
   "id": "f13944ab",
   "metadata": {},
   "outputs": [
    {
     "name": "stdout",
     "output_type": "stream",
     "text": [
      "<class 'pandas.core.frame.DataFrame'>\n",
      "RangeIndex: 10 entries, 0 to 9\n",
      "Data columns (total 6 columns):\n",
      " #   Column        Non-Null Count  Dtype         \n",
      "---  ------        --------------  -----         \n",
      " 0   Date_ID       10 non-null     int64         \n",
      " 1   Date          10 non-null     datetime64[ns]\n",
      " 2   Day           10 non-null     int64         \n",
      " 3   DayOfTheWeek  10 non-null     object        \n",
      " 4   Month         10 non-null     object        \n",
      " 5   Year          10 non-null     int64         \n",
      "dtypes: datetime64[ns](1), int64(3), object(2)\n",
      "memory usage: 608.0+ bytes\n"
     ]
    }
   ],
   "source": [
    "dates.info()"
   ]
  },
  {
   "cell_type": "code",
   "execution_count": 16,
   "id": "472f2f00",
   "metadata": {},
   "outputs": [],
   "source": [
    "dates['Date_ID'] = dates['Date_ID'].astype(\"string\")\n",
    "dates['Day'] = dates['Day'].astype(\"string\")\n",
    "dates['Date'] = dates['Date'].astype(\"string\")\n",
    "dates['DayOfTheWeek'] = dates['DayOfTheWeek'].astype(\"string\")\n",
    "dates['Month'] = dates['Month'].astype(\"string\")\n",
    "dates['Year'] = dates['Year'].astype(\"string\")"
   ]
  },
  {
   "cell_type": "code",
   "execution_count": 17,
   "id": "a2df4497",
   "metadata": {},
   "outputs": [
    {
     "name": "stdout",
     "output_type": "stream",
     "text": [
      "<class 'pandas.core.frame.DataFrame'>\n",
      "RangeIndex: 10 entries, 0 to 9\n",
      "Data columns (total 6 columns):\n",
      " #   Column        Non-Null Count  Dtype \n",
      "---  ------        --------------  ----- \n",
      " 0   Date_ID       10 non-null     string\n",
      " 1   Date          10 non-null     string\n",
      " 2   Day           10 non-null     string\n",
      " 3   DayOfTheWeek  10 non-null     string\n",
      " 4   Month         10 non-null     string\n",
      " 5   Year          10 non-null     string\n",
      "dtypes: string(6)\n",
      "memory usage: 608.0 bytes\n"
     ]
    }
   ],
   "source": [
    "dates.info()"
   ]
  },
  {
   "cell_type": "code",
   "execution_count": 187,
   "id": "24537031",
   "metadata": {},
   "outputs": [],
   "source": [
    "employees = pd.read_excel(\"Employee_Table.xlsx\")"
   ]
  },
  {
   "cell_type": "code",
   "execution_count": 190,
   "id": "1a5153d5",
   "metadata": {},
   "outputs": [
    {
     "name": "stdout",
     "output_type": "stream",
     "text": [
      "<class 'pandas.core.frame.DataFrame'>\n",
      "RangeIndex: 10 entries, 0 to 9\n",
      "Data columns (total 6 columns):\n",
      " #   Column               Non-Null Count  Dtype \n",
      "---  ------               --------------  ----- \n",
      " 0   Employee_ID          10 non-null     int64 \n",
      " 1   Employee_FirstName   10 non-null     object\n",
      " 2   Employee_LastName    10 non-null     object\n",
      " 3   Employee_Email       10 non-null     object\n",
      " 4   Employee_Region      10 non-null     object\n",
      " 5   Employee_Role_Title  10 non-null     object\n",
      "dtypes: int64(1), object(5)\n",
      "memory usage: 608.0+ bytes\n"
     ]
    }
   ],
   "source": [
    "employees.info()"
   ]
  },
  {
   "cell_type": "code",
   "execution_count": 191,
   "id": "e900dfb6",
   "metadata": {},
   "outputs": [],
   "source": [
    "employees['Employee_ID'] = employees['Employee_ID'].astype(\"string\")\n",
    "employees['Employee_FirstName'] = employees['Employee_FirstName'].astype(\"string\")\n",
    "employees['Employee_LastName'] = employees['Employee_LastName'].astype(\"string\")\n",
    "employees['Employee_Email'] = employees['Employee_Email'].astype(\"string\")\n",
    "employees['Employee_Region'] = employees['Employee_Region'].astype(\"string\")\n",
    "employees['Employee_Role_Title'] = employees['Employee_Role_Title'].astype(\"string\")\n"
   ]
  },
  {
   "cell_type": "code",
   "execution_count": 117,
   "id": "5c366f78",
   "metadata": {},
   "outputs": [],
   "source": [
    "genres = pd.read_excel(\"Genre_Table.xlsx\")"
   ]
  },
  {
   "cell_type": "code",
   "execution_count": 119,
   "id": "709ae5a5",
   "metadata": {},
   "outputs": [],
   "source": [
    "genres['Genre_ID'] = genres['Genre_ID'].astype(\"string\")\n",
    "genres['Genre_Name'] = genres['Genre_Name'].astype(\"string\")"
   ]
  },
  {
   "cell_type": "code",
   "execution_count": 120,
   "id": "303e327a",
   "metadata": {},
   "outputs": [
    {
     "name": "stdout",
     "output_type": "stream",
     "text": [
      "<class 'pandas.core.frame.DataFrame'>\n",
      "RangeIndex: 8 entries, 0 to 7\n",
      "Data columns (total 2 columns):\n",
      " #   Column      Non-Null Count  Dtype \n",
      "---  ------      --------------  ----- \n",
      " 0   Genre_ID    8 non-null      string\n",
      " 1   Genre_Name  8 non-null      string\n",
      "dtypes: string(2)\n",
      "memory usage: 256.0 bytes\n"
     ]
    }
   ],
   "source": [
    "genres.info()"
   ]
  },
  {
   "cell_type": "code",
   "execution_count": 168,
   "id": "04eb7cc0",
   "metadata": {},
   "outputs": [],
   "source": [
    "locations = pd.read_excel(\"Location_Table.xlsx\")"
   ]
  },
  {
   "cell_type": "code",
   "execution_count": 169,
   "id": "f3d8fc05",
   "metadata": {},
   "outputs": [],
   "source": [
    "locations.drop_duplicates(inplace=True)"
   ]
  },
  {
   "cell_type": "code",
   "execution_count": 170,
   "id": "a7208d58",
   "metadata": {},
   "outputs": [
    {
     "name": "stdout",
     "output_type": "stream",
     "text": [
      "<class 'pandas.core.frame.DataFrame'>\n",
      "Int64Index: 9 entries, 0 to 9\n",
      "Data columns (total 4 columns):\n",
      " #   Column       Non-Null Count  Dtype \n",
      "---  ------       --------------  ----- \n",
      " 0   Location_ID  9 non-null      int64 \n",
      " 1   City         9 non-null      object\n",
      " 2   State        9 non-null      object\n",
      " 3   Country      9 non-null      object\n",
      "dtypes: int64(1), object(3)\n",
      "memory usage: 360.0+ bytes\n"
     ]
    }
   ],
   "source": [
    "locations.info()"
   ]
  },
  {
   "cell_type": "code",
   "execution_count": 171,
   "id": "75e10ff9",
   "metadata": {},
   "outputs": [],
   "source": [
    "locations['Location_ID'] = locations['Location_ID'].astype(\"string\")\n",
    "locations['City'] = locations['City'].astype(\"string\")\n",
    "locations['State'] = locations['State'].astype(\"string\")\n",
    "locations['Country'] = locations['Country'].astype(\"string\")\n",
    "\n"
   ]
  },
  {
   "cell_type": "code",
   "execution_count": 65,
   "id": "96a28c09",
   "metadata": {},
   "outputs": [],
   "source": [
    "marketing_campaign = pd.read_excel(\"Marketing_Campaign.xlsx\")"
   ]
  },
  {
   "cell_type": "code",
   "execution_count": 66,
   "id": "6c240f67",
   "metadata": {},
   "outputs": [
    {
     "name": "stdout",
     "output_type": "stream",
     "text": [
      "<class 'pandas.core.frame.DataFrame'>\n",
      "RangeIndex: 9 entries, 0 to 8\n",
      "Data columns (total 7 columns):\n",
      " #   Column                 Non-Null Count  Dtype\n",
      "---  ------                 --------------  -----\n",
      " 0   Marketing_Campaign_ID  9 non-null      int64\n",
      " 1   Artist_ID              9 non-null      int64\n",
      " 2   Location_ID            9 non-null      int64\n",
      " 3   Customer_ID            9 non-null      int64\n",
      " 4   Date_ID                9 non-null      int64\n",
      " 5   Employee_ID            9 non-null      int64\n",
      " 6   Conversion_Rate        9 non-null      int64\n",
      "dtypes: int64(7)\n",
      "memory usage: 632.0 bytes\n"
     ]
    }
   ],
   "source": [
    "marketing_campaign.info()"
   ]
  },
  {
   "cell_type": "code",
   "execution_count": 67,
   "id": "405d3f72",
   "metadata": {},
   "outputs": [],
   "source": [
    "marketing_campaign['Marketing_Campaign_ID'] = marketing_campaign['Marketing_Campaign_ID'].astype(\"string\")\n",
    "marketing_campaign['Artist_ID'] = marketing_campaign['Artist_ID'].astype(\"string\")\n",
    "marketing_campaign['Location_ID'] = marketing_campaign['Location_ID'].astype(\"string\")\n",
    "marketing_campaign['Customer_ID'] = marketing_campaign['Customer_ID'].astype(\"string\")\n",
    "marketing_campaign['Date_ID'] = marketing_campaign['Date_ID'].astype(\"string\")\n",
    "marketing_campaign['Employee_ID'] = marketing_campaign['Employee_ID'].astype(\"string\")\n",
    "marketing_campaign['Conversion_Rate'] = marketing_campaign['Conversion_Rate'].astype(\"float\")\n",
    "\n",
    "\n",
    "\n",
    "\n",
    "\n",
    "\n"
   ]
  },
  {
   "cell_type": "code",
   "execution_count": 68,
   "id": "88baaaab",
   "metadata": {},
   "outputs": [
    {
     "data": {
      "text/html": [
       "<div>\n",
       "<style scoped>\n",
       "    .dataframe tbody tr th:only-of-type {\n",
       "        vertical-align: middle;\n",
       "    }\n",
       "\n",
       "    .dataframe tbody tr th {\n",
       "        vertical-align: top;\n",
       "    }\n",
       "\n",
       "    .dataframe thead th {\n",
       "        text-align: right;\n",
       "    }\n",
       "</style>\n",
       "<table border=\"1\" class=\"dataframe\">\n",
       "  <thead>\n",
       "    <tr style=\"text-align: right;\">\n",
       "      <th></th>\n",
       "      <th>Marketing_Campaign_ID</th>\n",
       "      <th>Artist_ID</th>\n",
       "      <th>Location_ID</th>\n",
       "      <th>Customer_ID</th>\n",
       "      <th>Date_ID</th>\n",
       "      <th>Employee_ID</th>\n",
       "      <th>Conversion_Rate</th>\n",
       "    </tr>\n",
       "  </thead>\n",
       "  <tbody>\n",
       "    <tr>\n",
       "      <th>0</th>\n",
       "      <td>1156321</td>\n",
       "      <td>501321</td>\n",
       "      <td>632931</td>\n",
       "      <td>900001</td>\n",
       "      <td>700001</td>\n",
       "      <td>1012091</td>\n",
       "      <td>23.0</td>\n",
       "    </tr>\n",
       "    <tr>\n",
       "      <th>1</th>\n",
       "      <td>1156322</td>\n",
       "      <td>501322</td>\n",
       "      <td>632932</td>\n",
       "      <td>900002</td>\n",
       "      <td>700002</td>\n",
       "      <td>1012092</td>\n",
       "      <td>18.0</td>\n",
       "    </tr>\n",
       "    <tr>\n",
       "      <th>2</th>\n",
       "      <td>1156323</td>\n",
       "      <td>501323</td>\n",
       "      <td>632933</td>\n",
       "      <td>900003</td>\n",
       "      <td>700003</td>\n",
       "      <td>1012093</td>\n",
       "      <td>10.0</td>\n",
       "    </tr>\n",
       "    <tr>\n",
       "      <th>3</th>\n",
       "      <td>1156324</td>\n",
       "      <td>501324</td>\n",
       "      <td>632934</td>\n",
       "      <td>900004</td>\n",
       "      <td>700004</td>\n",
       "      <td>1012094</td>\n",
       "      <td>32.0</td>\n",
       "    </tr>\n",
       "    <tr>\n",
       "      <th>4</th>\n",
       "      <td>1156326</td>\n",
       "      <td>501326</td>\n",
       "      <td>632936</td>\n",
       "      <td>900006</td>\n",
       "      <td>700006</td>\n",
       "      <td>1012096</td>\n",
       "      <td>13.0</td>\n",
       "    </tr>\n",
       "    <tr>\n",
       "      <th>5</th>\n",
       "      <td>1156327</td>\n",
       "      <td>501327</td>\n",
       "      <td>632937</td>\n",
       "      <td>900007</td>\n",
       "      <td>700007</td>\n",
       "      <td>1012097</td>\n",
       "      <td>16.0</td>\n",
       "    </tr>\n",
       "    <tr>\n",
       "      <th>6</th>\n",
       "      <td>1156328</td>\n",
       "      <td>501328</td>\n",
       "      <td>632938</td>\n",
       "      <td>900008</td>\n",
       "      <td>700008</td>\n",
       "      <td>1012098</td>\n",
       "      <td>17.0</td>\n",
       "    </tr>\n",
       "    <tr>\n",
       "      <th>7</th>\n",
       "      <td>1156329</td>\n",
       "      <td>501329</td>\n",
       "      <td>632939</td>\n",
       "      <td>900009</td>\n",
       "      <td>700009</td>\n",
       "      <td>1012099</td>\n",
       "      <td>22.0</td>\n",
       "    </tr>\n",
       "    <tr>\n",
       "      <th>8</th>\n",
       "      <td>1156330</td>\n",
       "      <td>501330</td>\n",
       "      <td>632940</td>\n",
       "      <td>900010</td>\n",
       "      <td>700010</td>\n",
       "      <td>1012100</td>\n",
       "      <td>8.0</td>\n",
       "    </tr>\n",
       "  </tbody>\n",
       "</table>\n",
       "</div>"
      ],
      "text/plain": [
       "  Marketing_Campaign_ID Artist_ID Location_ID Customer_ID Date_ID Employee_ID  \\\n",
       "0               1156321    501321      632931      900001  700001     1012091   \n",
       "1               1156322    501322      632932      900002  700002     1012092   \n",
       "2               1156323    501323      632933      900003  700003     1012093   \n",
       "3               1156324    501324      632934      900004  700004     1012094   \n",
       "4               1156326    501326      632936      900006  700006     1012096   \n",
       "5               1156327    501327      632937      900007  700007     1012097   \n",
       "6               1156328    501328      632938      900008  700008     1012098   \n",
       "7               1156329    501329      632939      900009  700009     1012099   \n",
       "8               1156330    501330      632940      900010  700010     1012100   \n",
       "\n",
       "   Conversion_Rate  \n",
       "0             23.0  \n",
       "1             18.0  \n",
       "2             10.0  \n",
       "3             32.0  \n",
       "4             13.0  \n",
       "5             16.0  \n",
       "6             17.0  \n",
       "7             22.0  \n",
       "8              8.0  "
      ]
     },
     "execution_count": 68,
     "metadata": {},
     "output_type": "execute_result"
    }
   ],
   "source": [
    "marketing_campaign"
   ]
  },
  {
   "cell_type": "code",
   "execution_count": 8,
   "id": "de587438",
   "metadata": {},
   "outputs": [
    {
     "name": "stdout",
     "output_type": "stream",
     "text": [
      "Collecting openpyxl\n",
      "  Downloading openpyxl-3.0.10-py2.py3-none-any.whl (242 kB)\n",
      "Collecting et-xmlfile\n",
      "  Downloading et_xmlfile-1.1.0-py3-none-any.whl (4.7 kB)\n",
      "Installing collected packages: et-xmlfile, openpyxl\n",
      "Successfully installed et-xmlfile-1.1.0 openpyxl-3.0.10\n",
      "Note: you may need to restart the kernel to use updated packages.\n"
     ]
    },
    {
     "name": "stderr",
     "output_type": "stream",
     "text": [
      "WARNING: You are using pip version 21.3.1; however, version 22.2.1 is available.\n",
      "You should consider upgrading via the 'c:\\Users\\chris\\AppData\\Local\\Programs\\Python\\Python39\\python.exe -m pip install --upgrade pip' command.\n"
     ]
    }
   ],
   "source": [
    "pip install openpyxl"
   ]
  },
  {
   "cell_type": "code",
   "execution_count": 7,
   "id": "01b559cd",
   "metadata": {},
   "outputs": [],
   "source": [
    "import pandas as pd"
   ]
  },
  {
   "cell_type": "code",
   "execution_count": 166,
   "id": "8cfbfe44",
   "metadata": {},
   "outputs": [],
   "source": [
    "medium = pd.read_csv(\"Medium_Table.csv\")"
   ]
  },
  {
   "cell_type": "code",
   "execution_count": 167,
   "id": "01cad26b",
   "metadata": {},
   "outputs": [
    {
     "name": "stdout",
     "output_type": "stream",
     "text": [
      "<class 'pandas.core.frame.DataFrame'>\n",
      "RangeIndex: 4 entries, 0 to 3\n",
      "Data columns (total 3 columns):\n",
      " #   Column       Non-Null Count  Dtype \n",
      "---  ------       --------------  ----- \n",
      " 0   Medium_ID    4 non-null      int64 \n",
      " 1   Medium_Name  4 non-null      object\n",
      " 2   Device_ID    4 non-null      int64 \n",
      "dtypes: int64(2), object(1)\n",
      "memory usage: 224.0+ bytes\n"
     ]
    }
   ],
   "source": [
    "medium.info()"
   ]
  },
  {
   "cell_type": "code",
   "execution_count": 168,
   "id": "b5b9298b",
   "metadata": {},
   "outputs": [],
   "source": [
    "medium['Medium_Name'] = medium['Medium_Name'].astype(\"string\")"
   ]
  },
  {
   "cell_type": "code",
   "execution_count": 169,
   "id": "b77f3c5a",
   "metadata": {},
   "outputs": [],
   "source": [
    "medium['Medium_ID'] = medium['Medium_ID'].astype(\"string\")"
   ]
  },
  {
   "cell_type": "code",
   "execution_count": 170,
   "id": "7f49367d",
   "metadata": {},
   "outputs": [],
   "source": [
    "medium['Device_ID'] = medium['Device_ID'].astype(\"string\")\n"
   ]
  },
  {
   "cell_type": "code",
   "execution_count": 171,
   "id": "36d6b6ad",
   "metadata": {},
   "outputs": [
    {
     "name": "stdout",
     "output_type": "stream",
     "text": [
      "<class 'pandas.core.frame.DataFrame'>\n",
      "RangeIndex: 4 entries, 0 to 3\n",
      "Data columns (total 3 columns):\n",
      " #   Column       Non-Null Count  Dtype \n",
      "---  ------       --------------  ----- \n",
      " 0   Medium_ID    4 non-null      string\n",
      " 1   Medium_Name  4 non-null      string\n",
      " 2   Device_ID    4 non-null      string\n",
      "dtypes: string(3)\n",
      "memory usage: 224.0 bytes\n"
     ]
    }
   ],
   "source": [
    "medium.info()"
   ]
  },
  {
   "cell_type": "code",
   "execution_count": 46,
   "id": "8bc76f33",
   "metadata": {},
   "outputs": [],
   "source": [
    "ratings = pd.read_excel(\"Rating_Table.xlsx\")"
   ]
  },
  {
   "cell_type": "code",
   "execution_count": 79,
   "id": "e00bdffb",
   "metadata": {},
   "outputs": [],
   "source": [
    "sales = pd.read_excel(\"Sales_Fact_Table.xlsx\")"
   ]
  },
  {
   "cell_type": "code",
   "execution_count": 80,
   "id": "13c9b2fd",
   "metadata": {},
   "outputs": [
    {
     "name": "stdout",
     "output_type": "stream",
     "text": [
      "<class 'pandas.core.frame.DataFrame'>\n",
      "RangeIndex: 10 entries, 0 to 9\n",
      "Data columns (total 11 columns):\n",
      " #   Column       Non-Null Count  Dtype\n",
      "---  ------       --------------  -----\n",
      " 0   Order_ID     10 non-null     int64\n",
      " 1   Artist_ID    10 non-null     int64\n",
      " 2   Track_ID     10 non-null     int64\n",
      " 3   Location_ID  10 non-null     int64\n",
      " 4   Medium_ID    10 non-null     int64\n",
      " 5   Album_ID     10 non-null     int64\n",
      " 6   Customer_ID  10 non-null     int64\n",
      " 7   Genre_ID     10 non-null     int64\n",
      " 8   Date_ID      10 non-null     int64\n",
      " 9   Units Sold   10 non-null     int64\n",
      " 10  Revenue      10 non-null     int64\n",
      "dtypes: int64(11)\n",
      "memory usage: 1008.0 bytes\n"
     ]
    }
   ],
   "source": [
    "sales.info()"
   ]
  },
  {
   "cell_type": "code",
   "execution_count": 81,
   "id": "8d55228f",
   "metadata": {},
   "outputs": [],
   "source": [
    "sales['Order_ID'] = sales['Order_ID'].astype('string')\n",
    "sales['Artist_ID'] = sales['Artist_ID'].astype('string')\n",
    "sales['Track_ID'] = sales['Track_ID'].astype('string')\n",
    "sales['Location_ID'] = sales['Location_ID'].astype('string')\n",
    "sales['Medium_ID'] = sales['Medium_ID'].astype('string')\n",
    "sales['Album_ID'] = sales['Album_ID'].astype('string')\n",
    "sales['Customer_ID'] = sales['Customer_ID'].astype('string')\n",
    "sales['Genre_ID'] = sales['Genre_ID'].astype('string')\n",
    "sales['Date_ID'] = sales['Date_ID'].astype('string')\n",
    "sales['Units Sold'] = sales['Units Sold'].astype(float)\n",
    "sales['Revenue'] = sales['Revenue'].astype(float)\n",
    "\n",
    "\n",
    "\n"
   ]
  },
  {
   "cell_type": "code",
   "execution_count": 82,
   "id": "81b22ac2",
   "metadata": {},
   "outputs": [
    {
     "name": "stdout",
     "output_type": "stream",
     "text": [
      "<class 'pandas.core.frame.DataFrame'>\n",
      "RangeIndex: 10 entries, 0 to 9\n",
      "Data columns (total 11 columns):\n",
      " #   Column       Non-Null Count  Dtype  \n",
      "---  ------       --------------  -----  \n",
      " 0   Order_ID     10 non-null     string \n",
      " 1   Artist_ID    10 non-null     string \n",
      " 2   Track_ID     10 non-null     string \n",
      " 3   Location_ID  10 non-null     string \n",
      " 4   Medium_ID    10 non-null     string \n",
      " 5   Album_ID     10 non-null     string \n",
      " 6   Customer_ID  10 non-null     string \n",
      " 7   Genre_ID     10 non-null     string \n",
      " 8   Date_ID      10 non-null     string \n",
      " 9   Units Sold   10 non-null     float64\n",
      " 10  Revenue      10 non-null     float64\n",
      "dtypes: float64(2), string(9)\n",
      "memory usage: 1008.0 bytes\n"
     ]
    }
   ],
   "source": [
    "sales.info()"
   ]
  },
  {
   "cell_type": "code",
   "execution_count": 55,
   "id": "3d74ac8a",
   "metadata": {},
   "outputs": [],
   "source": [
    "tracks = pd.read_excel(\"Track_Table.xlsx\")"
   ]
  },
  {
   "cell_type": "code",
   "execution_count": 57,
   "id": "7d916fd4",
   "metadata": {},
   "outputs": [
    {
     "name": "stdout",
     "output_type": "stream",
     "text": [
      "<class 'pandas.core.frame.DataFrame'>\n",
      "RangeIndex: 10 entries, 0 to 9\n",
      "Data columns (total 4 columns):\n",
      " #   Column                    Non-Null Count  Dtype \n",
      "---  ------                    --------------  ----- \n",
      " 0   Track_ID                  10 non-null     int64 \n",
      " 1   Track_Name                10 non-null     object\n",
      " 2   Track_Duration (Seconds)  10 non-null     int64 \n",
      " 3   Track_Language            10 non-null     object\n",
      "dtypes: int64(2), object(2)\n",
      "memory usage: 448.0+ bytes\n"
     ]
    }
   ],
   "source": [
    "tracks.info()"
   ]
  },
  {
   "cell_type": "code",
   "execution_count": 61,
   "id": "5252fde4",
   "metadata": {},
   "outputs": [],
   "source": [
    "tracks['Track_ID'] = tracks['Track_ID'].astype(\"string\")\n",
    "tracks['Track_Name'] = tracks['Track_Name'].astype(\"string\")\n",
    "tracks['Track_Duration (Seconds)'] = tracks['Track_Duration (Seconds)'].astype(\"float\")\n",
    "tracks['Track_Language'] = tracks['Track_Language'].astype(\"string\")\n"
   ]
  },
  {
   "cell_type": "code",
   "execution_count": 62,
   "id": "619640cc",
   "metadata": {},
   "outputs": [
    {
     "name": "stdout",
     "output_type": "stream",
     "text": [
      "<class 'pandas.core.frame.DataFrame'>\n",
      "RangeIndex: 10 entries, 0 to 9\n",
      "Data columns (total 4 columns):\n",
      " #   Column                    Non-Null Count  Dtype  \n",
      "---  ------                    --------------  -----  \n",
      " 0   Track_ID                  10 non-null     string \n",
      " 1   Track_Name                10 non-null     string \n",
      " 2   Track_Duration (Seconds)  10 non-null     float64\n",
      " 3   Track_Language            10 non-null     string \n",
      "dtypes: float64(1), string(3)\n",
      "memory usage: 448.0 bytes\n"
     ]
    }
   ],
   "source": [
    "tracks.info()"
   ]
  },
  {
   "cell_type": "markdown",
   "id": "0d3028c7",
   "metadata": {},
   "source": [
    "# CONVERTING TO TUPLES FOR SQL"
   ]
  },
  {
   "cell_type": "code",
   "execution_count": 32,
   "id": "99c619d2",
   "metadata": {},
   "outputs": [],
   "source": [
    "import json\n",
    "import pandas as pd\n",
    "import numpy as np"
   ]
  },
  {
   "cell_type": "code",
   "execution_count": 104,
   "id": "9accb546",
   "metadata": {},
   "outputs": [],
   "source": [
    "albums = albums.to_records(index = False)"
   ]
  },
  {
   "cell_type": "code",
   "execution_count": 143,
   "id": "b06303fd",
   "metadata": {},
   "outputs": [],
   "source": [
    "artists = artists.to_records(index = False)"
   ]
  },
  {
   "cell_type": "code",
   "execution_count": 116,
   "id": "0c8ae6c7",
   "metadata": {},
   "outputs": [],
   "source": [
    "artists_review = artists_review.to_records(index = False)"
   ]
  },
  {
   "cell_type": "code",
   "execution_count": 83,
   "id": "300dd7fd",
   "metadata": {},
   "outputs": [],
   "source": [
    "sales = sales.to_records(index = False)"
   ]
  },
  {
   "cell_type": "code",
   "execution_count": 69,
   "id": "52daec39",
   "metadata": {},
   "outputs": [],
   "source": [
    "marketing_campaign = marketing_campaign.to_records(index = False)\n"
   ]
  },
  {
   "cell_type": "code",
   "execution_count": 152,
   "id": "38fcc3bb",
   "metadata": {},
   "outputs": [],
   "source": [
    "devices = devices.to_records(index = False)\n"
   ]
  },
  {
   "cell_type": "code",
   "execution_count": 18,
   "id": "76a540f3",
   "metadata": {},
   "outputs": [],
   "source": [
    "dates = dates.to_records(index = False)"
   ]
  },
  {
   "cell_type": "code",
   "execution_count": 142,
   "id": "4c52fa83",
   "metadata": {},
   "outputs": [],
   "source": [
    "customers = customers.to_records(index = False)"
   ]
  },
  {
   "cell_type": "code",
   "execution_count": 193,
   "id": "3eb1b93b",
   "metadata": {},
   "outputs": [
    {
     "ename": "AttributeError",
     "evalue": "recarray has no attribute to_records",
     "output_type": "error",
     "traceback": [
      "\u001b[1;31m---------------------------------------------------------------------------\u001b[0m",
      "\u001b[1;31mKeyError\u001b[0m                                  Traceback (most recent call last)",
      "File \u001b[1;32mc:\\Users\\chris\\AppData\\Local\\Programs\\Python\\Python39\\lib\\site-packages\\numpy\\core\\records.py:454\u001b[0m, in \u001b[0;36mrecarray.__getattribute__\u001b[1;34m(self, attr)\u001b[0m\n\u001b[0;32m    453\u001b[0m \u001b[39mtry\u001b[39;00m:\n\u001b[1;32m--> 454\u001b[0m     res \u001b[39m=\u001b[39m fielddict[attr][:\u001b[39m2\u001b[39m]\n\u001b[0;32m    455\u001b[0m \u001b[39mexcept\u001b[39;00m (\u001b[39mTypeError\u001b[39;00m, \u001b[39mKeyError\u001b[39;00m) \u001b[39mas\u001b[39;00m e:\n",
      "\u001b[1;31mKeyError\u001b[0m: 'to_records'",
      "\nThe above exception was the direct cause of the following exception:\n",
      "\u001b[1;31mAttributeError\u001b[0m                            Traceback (most recent call last)",
      "\u001b[1;32mc:\\Users\\chris\\OneDrive\\Big Data\\group pipeline.ipynb Cell 77\u001b[0m in \u001b[0;36m<cell line: 1>\u001b[1;34m()\u001b[0m\n\u001b[1;32m----> <a href='vscode-notebook-cell:/c%3A/Users/chris/OneDrive/Big%20Data/group%20pipeline.ipynb#ch0000105?line=0'>1</a>\u001b[0m employees \u001b[39m=\u001b[39m employees\u001b[39m.\u001b[39;49mto_records(index \u001b[39m=\u001b[39m \u001b[39mFalse\u001b[39;00m)\n",
      "File \u001b[1;32mc:\\Users\\chris\\AppData\\Local\\Programs\\Python\\Python39\\lib\\site-packages\\numpy\\core\\records.py:456\u001b[0m, in \u001b[0;36mrecarray.__getattribute__\u001b[1;34m(self, attr)\u001b[0m\n\u001b[0;32m    454\u001b[0m     res \u001b[39m=\u001b[39m fielddict[attr][:\u001b[39m2\u001b[39m]\n\u001b[0;32m    455\u001b[0m \u001b[39mexcept\u001b[39;00m (\u001b[39mTypeError\u001b[39;00m, \u001b[39mKeyError\u001b[39;00m) \u001b[39mas\u001b[39;00m e:\n\u001b[1;32m--> 456\u001b[0m     \u001b[39mraise\u001b[39;00m \u001b[39mAttributeError\u001b[39;00m(\u001b[39m\"\u001b[39m\u001b[39mrecarray has no attribute \u001b[39m\u001b[39m%s\u001b[39;00m\u001b[39m\"\u001b[39m \u001b[39m%\u001b[39m attr) \u001b[39mfrom\u001b[39;00m \u001b[39me\u001b[39;00m\n\u001b[0;32m    457\u001b[0m obj \u001b[39m=\u001b[39m \u001b[39mself\u001b[39m\u001b[39m.\u001b[39mgetfield(\u001b[39m*\u001b[39mres)\n\u001b[0;32m    459\u001b[0m \u001b[39m# At this point obj will always be a recarray, since (see\u001b[39;00m\n\u001b[0;32m    460\u001b[0m \u001b[39m# PyArray_GetField) the type of obj is inherited. Next, if obj.dtype is\u001b[39;00m\n\u001b[0;32m    461\u001b[0m \u001b[39m# non-structured, convert it to an ndarray. Then if obj is structured\u001b[39;00m\n\u001b[0;32m    462\u001b[0m \u001b[39m# with void type convert it to the same dtype.type (eg to preserve\u001b[39;00m\n\u001b[0;32m    463\u001b[0m \u001b[39m# numpy.record type if present), since nested structured fields do not\u001b[39;00m\n\u001b[0;32m    464\u001b[0m \u001b[39m# inherit type. Don't do this for non-void structures though.\u001b[39;00m\n",
      "\u001b[1;31mAttributeError\u001b[0m: recarray has no attribute to_records"
     ]
    }
   ],
   "source": [
    "employees = employees.to_records(index = False)\n"
   ]
  },
  {
   "cell_type": "code",
   "execution_count": 172,
   "id": "2a0f60e6",
   "metadata": {},
   "outputs": [],
   "source": [
    "locations = locations.to_records(index = False)"
   ]
  },
  {
   "cell_type": "code",
   "execution_count": 63,
   "id": "15b890a1",
   "metadata": {},
   "outputs": [],
   "source": [
    "tracks = tracks.to_records(index=False)"
   ]
  },
  {
   "cell_type": "code",
   "execution_count": 172,
   "id": "05fc8dec",
   "metadata": {},
   "outputs": [],
   "source": [
    "medium = medium.to_records(index = False)"
   ]
  },
  {
   "cell_type": "code",
   "execution_count": 121,
   "id": "3d292663",
   "metadata": {},
   "outputs": [],
   "source": [
    "genres = genres.to_records(index=False)"
   ]
  },
  {
   "cell_type": "markdown",
   "id": "11b4bc5e",
   "metadata": {},
   "source": [
    "# INSERT"
   ]
  },
  {
   "cell_type": "code",
   "execution_count": 110,
   "id": "d1c20874",
   "metadata": {},
   "outputs": [],
   "source": [
    "def insert_albums(recordlist):\n",
    "    insert_albums = \"\"\"INSERT INTO Album_Dimensional\n",
    "    (Album_ID,Album_Name,Album_Track_Number,Album_Release_Year)\n",
    "    VALUES (?,?,?,?)\"\"\"\n",
    "    cursor.executemany(insert_albums, recordlist)\n",
    "    conn.commit()\n",
    "    print(\"Albums successfully entered\")"
   ]
  },
  {
   "cell_type": "code",
   "execution_count": 111,
   "id": "0e4c481d",
   "metadata": {},
   "outputs": [
    {
     "name": "stdout",
     "output_type": "stream",
     "text": [
      "Albums successfully entered\n"
     ]
    }
   ],
   "source": [
    "insert_albums(albums)"
   ]
  },
  {
   "cell_type": "code",
   "execution_count": 164,
   "id": "9dd6401f",
   "metadata": {},
   "outputs": [],
   "source": [
    "def insert_medium(recordlist):\n",
    "    insert_medium_query = \"\"\"INSERT INTO Medium_Dimensional\n",
    "    (Medium_ID,Medium_Name,Device_ID)\n",
    "    VALUES (?,?,?)\"\"\"\n",
    "    cursor.executemany(insert_medium_query, recordlist)\n",
    "    conn.commit()\n",
    "    print(\"Medium successfully entered\")"
   ]
  },
  {
   "cell_type": "code",
   "execution_count": 173,
   "id": "0951ebec",
   "metadata": {},
   "outputs": [
    {
     "name": "stdout",
     "output_type": "stream",
     "text": [
      "Medium successfully entered\n"
     ]
    }
   ],
   "source": [
    "insert_medium(medium)"
   ]
  },
  {
   "cell_type": "code",
   "execution_count": 64,
   "id": "9dd6401f",
   "metadata": {},
   "outputs": [],
   "source": [
    "def insert_tracks(recordlist):\n",
    "    insert_tracks_query = \"\"\"INSERT INTO Track_Dimensional\n",
    "    (Track_ID,Track_Name,Track_Duration,Track_Language)\n",
    "    VALUES (?,?,?,?)\"\"\"\n",
    "    cursor.executemany(insert_tracks_query, recordlist)\n",
    "    conn.commit()\n",
    "    print(\"Tracks successfully entered\")"
   ]
  },
  {
   "cell_type": "code",
   "execution_count": 66,
   "id": "0951ebec",
   "metadata": {},
   "outputs": [
    {
     "name": "stdout",
     "output_type": "stream",
     "text": [
      "Tracks successfully entered\n"
     ]
    }
   ],
   "source": [
    "insert_tracks(tracks)"
   ]
  },
  {
   "cell_type": "code",
   "execution_count": 122,
   "id": "69d481ed",
   "metadata": {},
   "outputs": [],
   "source": [
    "def insert_genres(recordlist):\n",
    "    insert_genres_query = \"\"\"INSERT INTO Genre_Dimensional\n",
    "    (Genre_ID,Genre_Name)\n",
    "    VALUES (?,?)\"\"\"\n",
    "    cursor.executemany(insert_genres_query, recordlist)\n",
    "    conn.commit()\n",
    "    print(\"Genres successfully entered\")"
   ]
  },
  {
   "cell_type": "code",
   "execution_count": 123,
   "id": "995afbed",
   "metadata": {},
   "outputs": [
    {
     "name": "stdout",
     "output_type": "stream",
     "text": [
      "Genres successfully entered\n"
     ]
    }
   ],
   "source": [
    "insert_genres(genres)"
   ]
  },
  {
   "cell_type": "code",
   "execution_count": 134,
   "id": "a0166b80",
   "metadata": {},
   "outputs": [],
   "source": [
    "def insert_artists(recordlist):\n",
    "    insert_artists_query = \"\"\"INSERT INTO Artist_Dimensional\n",
    "    (Artist_ID,Artist_name,Country_of_origin)\n",
    "    VALUES (?,?,?)\"\"\"\n",
    "    cursor.executemany(insert_artists_query, recordlist)\n",
    "    conn.commit()\n",
    "    print(\"Artists successfully entered\")"
   ]
  },
  {
   "cell_type": "code",
   "execution_count": 148,
   "id": "bfb5bdb9",
   "metadata": {},
   "outputs": [
    {
     "name": "stdout",
     "output_type": "stream",
     "text": [
      "Artists successfully entered\n"
     ]
    }
   ],
   "source": [
    "insert_artists(artists)"
   ]
  },
  {
   "cell_type": "code",
   "execution_count": 144,
   "id": "e71ffea2",
   "metadata": {},
   "outputs": [
    {
     "data": {
      "text/plain": [
       "rec.array([('501321', 'Kanye West', 'USA'), ('501322', 'Logic', 'USA'),\n",
       "           ('501323', 'LL Cool J', 'USA'),\n",
       "           ('501324', 'Kids See Ghosts', 'USA'),\n",
       "           ('501325', 'Public Enemy', 'USA'),\n",
       "           ('501326', 'Jeremih', 'USA'), ('501327', 'Joe Budden', 'USA'),\n",
       "           ('501328', '2 Chainz', 'USA'),\n",
       "           ('501329', 'Frank Ocean', 'USA'),\n",
       "           ('501330', 'Vince Staples', 'USA')],\n",
       "          dtype=[('Artist_ID', 'O'), ('Artist_Name', 'O'), ('Country_of_Origin', 'O')])"
      ]
     },
     "execution_count": 144,
     "metadata": {},
     "output_type": "execute_result"
    }
   ],
   "source": [
    "artists"
   ]
  },
  {
   "cell_type": "code",
   "execution_count": 183,
   "id": "8ce838ca",
   "metadata": {},
   "outputs": [],
   "source": [
    "def insert_locations(recordlist):\n",
    "    insert_locations_query = \"\"\"INSERT INTO Location_Dimensional\n",
    "    (Location_ID,City,State,Country)\n",
    "    VALUES (?,?,?,?)\"\"\"\n",
    "    cursor.executemany(insert_locations_query, recordlist)\n",
    "    conn.commit()\n",
    "    print(\"Locations successfully entered\")"
   ]
  },
  {
   "cell_type": "code",
   "execution_count": 184,
   "id": "2fcf8da3",
   "metadata": {},
   "outputs": [
    {
     "name": "stdout",
     "output_type": "stream",
     "text": [
      "Locations successfully entered\n"
     ]
    }
   ],
   "source": [
    "insert_locations(locations)"
   ]
  },
  {
   "cell_type": "code",
   "execution_count": 179,
   "id": "2fc8900c",
   "metadata": {},
   "outputs": [
    {
     "data": {
      "text/plain": [
       "rec.array([('632931', 'New york', 'New York', 'USA'),\n",
       "           ('632932', 'Manhattan', 'New York', 'USA'),\n",
       "           ('632933', 'Los Angeles', 'California', 'USA'),\n",
       "           ('632934', 'San diego', 'California', 'USA'),\n",
       "           ('632936', 'Atlanta', 'Georgia', 'USA'),\n",
       "           ('632937', 'Dallas', 'Texas', 'USA'),\n",
       "           ('632938', 'Austin', 'Texas', 'USA'),\n",
       "           ('632939', 'Detroit', 'Michigan', 'USA'),\n",
       "           ('632940', 'Miami', 'Florida', 'USA')],\n",
       "          dtype=[('Location_ID', 'O'), ('City', 'O'), ('State', 'O'), ('Country', 'O')])"
      ]
     },
     "execution_count": 179,
     "metadata": {},
     "output_type": "execute_result"
    }
   ],
   "source": [
    "locations"
   ]
  },
  {
   "cell_type": "code",
   "execution_count": 134,
   "id": "a58dfb9f",
   "metadata": {},
   "outputs": [],
   "source": [
    "def insert_employees(recordlist):\n",
    "    insert_employees_query = \"\"\"INSERT INTO Employee_Dimensional\n",
    "    (Employee_ID,Employee_FirstName,Employee_LastName,Employee_Email,Employee_Region,Employee_Role_Title)\n",
    "    VALUES (?,?,?,?,?,?)\"\"\"\n",
    "    cursor.executemany(insert_employees_query, recordlist)\n",
    "    conn.commit()\n",
    "    print(\"Employees successfully entered\")"
   ]
  },
  {
   "cell_type": "code",
   "execution_count": 133,
   "id": "dbe695e8",
   "metadata": {},
   "outputs": [
    {
     "ename": "NameError",
     "evalue": "name 'insert_employees' is not defined",
     "output_type": "error",
     "traceback": [
      "\u001b[1;31m---------------------------------------------------------------------------\u001b[0m",
      "\u001b[1;31mNameError\u001b[0m                                 Traceback (most recent call last)",
      "\u001b[1;32mc:\\Users\\chris\\OneDrive\\Big Data\\group pipeline.ipynb Cell 114\u001b[0m in \u001b[0;36m<cell line: 1>\u001b[1;34m()\u001b[0m\n\u001b[1;32m----> <a href='vscode-notebook-cell:/c%3A/Users/chris/OneDrive/Big%20Data/group%20pipeline.ipynb#ch0000102?line=0'>1</a>\u001b[0m insert_employees(employees)\n",
      "\u001b[1;31mNameError\u001b[0m: name 'insert_employees' is not defined"
     ]
    }
   ],
   "source": [
    "insert_employees(employees)"
   ]
  },
  {
   "cell_type": "code",
   "execution_count": 135,
   "id": "661ccd4f",
   "metadata": {},
   "outputs": [],
   "source": [
    "def insert_customers(recordlist):\n",
    "    insert_customers_query = \"\"\"INSERT INTO Customer_Dimensional\n",
    "    ('Customer_ID', 'Customer_Rep_ID', 'Customer_Name', 'Customer_DOB',\n",
    "       'Customer_Gender', 'Customer_City', 'Customer_Country',\n",
    "       'Customer_Postal_Code', 'Customer_Email', 'Customer_Phone_Number')\n",
    "    VALUES (?,?,?,?,?,?,?,?,?,?)\"\"\"\n",
    "    cursor.executemany(insert_customers_query, recordlist)\n",
    "    conn.commit()\n",
    "    print(\"Customers successfully entered\")"
   ]
  },
  {
   "cell_type": "code",
   "execution_count": 143,
   "id": "ce28c9e5",
   "metadata": {},
   "outputs": [
    {
     "name": "stdout",
     "output_type": "stream",
     "text": [
      "Customers successfully entered\n"
     ]
    }
   ],
   "source": [
    "insert_customers(customers)"
   ]
  },
  {
   "cell_type": "code",
   "execution_count": 19,
   "id": "fb95852a",
   "metadata": {},
   "outputs": [],
   "source": [
    "def insert_dates(recordlist):\n",
    "    insert_dates_query = \"\"\"INSERT INTO Date_Dimensional\n",
    "    ('Date_ID', 'Date', 'Day', 'DayOfTheWeek',\n",
    "       'Month', 'Year')\n",
    "    VALUES (?,?,?,?,?,?)\"\"\"\n",
    "    cursor.executemany(insert_dates_query, recordlist)\n",
    "    conn.commit()\n",
    "    print(\"Dates successfully entered\")"
   ]
  },
  {
   "cell_type": "code",
   "execution_count": 20,
   "id": "dda1dd47",
   "metadata": {},
   "outputs": [
    {
     "name": "stdout",
     "output_type": "stream",
     "text": [
      "Dates successfully entered\n"
     ]
    }
   ],
   "source": [
    "insert_dates(dates)"
   ]
  },
  {
   "cell_type": "code",
   "execution_count": 158,
   "id": "8a6ad03b",
   "metadata": {},
   "outputs": [],
   "source": [
    "def insert_devices(recordlist):\n",
    "    insert_devices_query = \"\"\"INSERT INTO Device_Dimensional\n",
    "    ('Device_ID','Device_Type')\n",
    "    VALUES (?,?)\"\"\"\n",
    "    cursor.executemany(insert_devices_query, recordlist)\n",
    "    conn.commit()\n",
    "    print(\"Devices successfully entered\")"
   ]
  },
  {
   "cell_type": "code",
   "execution_count": 159,
   "id": "4f142119",
   "metadata": {},
   "outputs": [
    {
     "name": "stdout",
     "output_type": "stream",
     "text": [
      "Devices successfully entered\n"
     ]
    }
   ],
   "source": [
    "insert_devices(devices)"
   ]
  },
  {
   "cell_type": "code",
   "execution_count": 157,
   "id": "4edd521c",
   "metadata": {},
   "outputs": [
    {
     "data": {
      "text/plain": [
       "rec.array([('2514231', 'Smartphone'), ('2514232', 'Laptop'),\n",
       "           ('2514233', 'Tablet'), ('2514234', 'Desktop')],\n",
       "          dtype=[('Device_ID', 'O'), ('Device_Type', 'O')])"
      ]
     },
     "execution_count": 157,
     "metadata": {},
     "output_type": "execute_result"
    }
   ],
   "source": [
    "devices"
   ]
  },
  {
   "cell_type": "code",
   "execution_count": 75,
   "id": "923d41b9",
   "metadata": {},
   "outputs": [],
   "source": [
    "def insert_marketing_campaign(recordlist):\n",
    "    insert_marketing_campaign_query = \"\"\"INSERT INTO Marketing_Campaign_Fact\n",
    "    ('Marketing_Campaign','Conversion_Rate','Location_ID','Customer_ID','Date_ID','Employee_ID','Artist_ID')\n",
    "    VALUES (?,?,?,?,?,?,?)\"\"\"\n",
    "    cursor.executemany(insert_marketing_campaign_query, recordlist)\n",
    "    conn.commit()\n",
    "    print(\"Marketing Campaign successfully entered\")"
   ]
  },
  {
   "cell_type": "code",
   "execution_count": 76,
   "id": "77a234a1",
   "metadata": {},
   "outputs": [
    {
     "name": "stdout",
     "output_type": "stream",
     "text": [
      "Marketing Campaign successfully entered\n"
     ]
    }
   ],
   "source": [
    "insert_marketing_campaign(marketing_campaign)"
   ]
  },
  {
   "cell_type": "code",
   "execution_count": 89,
   "id": "c00e378b",
   "metadata": {},
   "outputs": [],
   "source": [
    "def insert_sales(recordlist):\n",
    "    insert_sales_query = \"\"\"INSERT INTO Sales_Fact\n",
    "    ('Order_ID','Artist_ID','Track_ID','Location_ID','Medium_ID','Album_ID','Customer_ID','Genre_ID','Date_ID','Units_Sold','Revenue')\n",
    "    VALUES (?,?,?,?,?,?,?,?,?,?,?)\"\"\"\n",
    "    cursor.executemany(insert_sales_query, recordlist)\n",
    "    conn.commit()\n",
    "    print(\"Sales successfully entered\")"
   ]
  },
  {
   "cell_type": "code",
   "execution_count": 90,
   "id": "a3a1323f",
   "metadata": {},
   "outputs": [
    {
     "name": "stdout",
     "output_type": "stream",
     "text": [
      "Sales successfully entered\n"
     ]
    }
   ],
   "source": [
    "insert_sales(sales)"
   ]
  },
  {
   "cell_type": "code",
   "execution_count": 109,
   "id": "83335bc7",
   "metadata": {},
   "outputs": [],
   "source": [
    "def insert_review_fact(recordlist):\n",
    "    insert_review_fact_query = \"\"\"INSERT INTO Review_Fact\n",
    "    ('Review_ID','Artist_ID','Customer_ID','Medium_ID','Date_ID','Location_ID','Rating','Review_Sentiment')\n",
    "    VALUES (?,?,?,?,?,?,?,?)\"\"\"\n",
    "    cursor.executemany(insert_review_fact_query, recordlist)\n",
    "    conn.commit()\n",
    "    print(\"Reviews successfully entered\")"
   ]
  },
  {
   "cell_type": "code",
   "execution_count": 117,
   "id": "37387b93",
   "metadata": {},
   "outputs": [
    {
     "name": "stdout",
     "output_type": "stream",
     "text": [
      "Reviews successfully entered\n"
     ]
    }
   ],
   "source": [
    "insert_review_fact(artists_review)"
   ]
  },
  {
   "cell_type": "code",
   "execution_count": 106,
   "id": "a4e66aa5",
   "metadata": {},
   "outputs": [
    {
     "data": {
      "text/plain": [
       "rec.array([('5013201.0', '900001.0', '211121.0', '700001.0', '632931.0', 3. , 'Positive'),\n",
       "           ('5013202.0', '900002.0', '211122.0', '700002.0', '632932.0', 4. , 'Positive'),\n",
       "           ('5013203.0', '900003.0', '211123.0', '700003.0', '632933.0', 3.5, 'Positive'),\n",
       "           ('5013204.0', '900004.0', '211124.0', '700004.0', '632934.0', 5. , 'Positive'),\n",
       "           ('5013205.0', '900005.0', '211121.0', '700005.0', '632935.0', 4.5, 'Positive'),\n",
       "           ('5013206.0', '900006.0', '211122.0', '700006.0', '632936.0', 2.5, 'Negative'),\n",
       "           ('5013207.0', '900007.0', '211123.0', '700007.0', '632937.0', 4.5, 'Negative'),\n",
       "           ('5013208.0', '900008.0', '211124.0', '700008.0', '632938.0', 4. , 'Negative'),\n",
       "           ('5013209.0', '900009.0', '211122.0', '700009.0', '632939.0', 3. , 'Negative'),\n",
       "           ('5013210.0', '900010.0', '211123.0', '700010.0', '632940.0', 3.5, 'Negative')],\n",
       "          dtype=[('Artist_ID', 'O'), ('Customer_ID', 'O'), ('Medium_ID', 'O'), ('Date_ID', 'O'), ('Location_ID', 'O'), ('Rating', '<f8'), ('Review_Sentiment', 'O')])"
      ]
     },
     "execution_count": 106,
     "metadata": {},
     "output_type": "execute_result"
    }
   ],
   "source": [
    "artists_review"
   ]
  },
  {
   "cell_type": "markdown",
   "id": "9793a30e",
   "metadata": {},
   "source": [
    "# Triggers"
   ]
  },
  {
   "cell_type": "code",
   "execution_count": 144,
   "id": "0d654ec7",
   "metadata": {},
   "outputs": [],
   "source": [
    "create_trigger_customerphone_query = \"\"\"\n",
    "CREATE TRIGGER customerphone\n",
    "  BEFORE INSERT ON Customer_Dimensional\n",
    "  BEGIN \n",
    "      SELECT\n",
    "          CASE\n",
    "            WHEN NEW.Customer_Phone_Number NOT LIKE '%___%' THEN\n",
    "                     RAISE (ABORT,'Invalid phone number')\n",
    "               END;\n",
    "  END;\n",
    "  \"\"\"\n",
    "\n",
    "\n",
    "cursor.execute(create_trigger_customerphone_query)\n",
    "conn.commit()"
   ]
  },
  {
   "cell_type": "code",
   "execution_count": null,
   "id": "2666e413",
   "metadata": {},
   "outputs": [],
   "source": [
    "def insert_invalid_phone(id, city, state):\n",
    "    insert_record_query = \"\"\" INSERT INTO location_dimension (location_id, city, state) VALUES (?, ?, ?)\"\"\"\n",
    "    data_tuple = (id, city, state)\n",
    "    cursor.execute(insert_record_query, data_tuple)\n",
    "    conn.commit()\n",
    "    print('New data inserted successfully')"
   ]
  },
  {
   "cell_type": "code",
   "execution_count": 127,
   "id": "eee90cc4",
   "metadata": {},
   "outputs": [],
   "source": [
    "create_trigger_employee_email_query = \"\"\"\n",
    "CREATE TRIGGER employee_email_trigger\n",
    "  BEFORE INSERT ON Employee_Dimensional\n",
    "  BEGIN \n",
    "      SELECT\n",
    "          CASE\n",
    "            WHEN NEW.Employee_Email NOT LIKE '%__@__%' THEN\n",
    "                     RAISE (ABORT,'Invalid Email')\n",
    "               END;\n",
    "  END;\n",
    "  \"\"\"\n",
    "\n",
    "\n",
    "cursor.execute(create_trigger_employee_email_query)\n",
    "conn.commit()"
   ]
  },
  {
   "cell_type": "code",
   "execution_count": 128,
   "id": "d19ed87c",
   "metadata": {},
   "outputs": [],
   "source": [
    "create_trigger_date_query = \"\"\"\n",
    "CREATE TRIGGER date_trigger\n",
    "  BEFORE INSERT ON Date_Dimensional\n",
    "  BEGIN \n",
    "      SELECT\n",
    "          CASE\n",
    "            WHEN NEW.Date NOT LIKE '%____-__-__%' THEN\n",
    "                     RAISE (ABORT,'Invalid Date')\n",
    "               END;\n",
    "  END;\n",
    "  \"\"\"\n",
    "\n",
    "\n",
    "cursor.execute(create_trigger_date_query)\n",
    "conn.commit()"
   ]
  },
  {
   "cell_type": "code",
   "execution_count": 145,
   "id": "9cf485b6",
   "metadata": {},
   "outputs": [],
   "source": [
    "create_trigger_customer_email_query = \"\"\"\n",
    "CREATE TRIGGER customer_email_trigger\n",
    "  BEFORE INSERT ON Customer_Dimensional\n",
    "  BEGIN \n",
    "      SELECT\n",
    "          CASE\n",
    "            WHEN NEW.Customer_Email NOT LIKE '%__@__%' THEN\n",
    "                     RAISE (ABORT,'Invalid Email')\n",
    "               END;\n",
    "  END;S\n",
    "  \"\"\"\n",
    "\n",
    "\n",
    "cursor.execute(create_trigger_customer_email_query)\n",
    "conn.commit()"
   ]
  },
  {
   "cell_type": "markdown",
   "id": "f9b27c11",
   "metadata": {},
   "source": [
    "# Access Control"
   ]
  },
  {
   "cell_type": "code",
   "execution_count": 175,
   "id": "c8711223",
   "metadata": {},
   "outputs": [
    {
     "data": {
      "text/plain": [
       "'\\ncreate_data_steward = \"\"\" CREATE ROLE Data_Steward; GO\\n\\n\"\"\"\\n\\n\\n\\n\\ncursor.execute(create_data_steward)\\nconn.commit()'"
      ]
     },
     "execution_count": 175,
     "metadata": {},
     "output_type": "execute_result"
    }
   ],
   "source": [
    "# This is what we would do for access control\n",
    "'''\n",
    "create_data_steward = \"\"\" CREATE ROLE Data_Steward; GO\n",
    "\n",
    "\"\"\"\n",
    "\n",
    "\n",
    "\n",
    "\n",
    "cursor.execute(create_data_steward)\n",
    "conn.commit()'''"
   ]
  },
  {
   "cell_type": "markdown",
   "id": "121d6506",
   "metadata": {},
   "source": [
    "# Creating Views"
   ]
  },
  {
   "cell_type": "code",
   "execution_count": 176,
   "id": "c88a3ac7",
   "metadata": {},
   "outputs": [],
   "source": [
    "create_artist_sales_view = \"\"\" CREATE VIEW Artist_Sales AS\n",
    "SELECT s.Units_Sold, s.Revenue, a.Artist_Name\n",
    "FROM Sales_Fact s\n",
    "LEFT JOIN Artist_Dimensional a ON s.Artist_ID = a.Artist_ID\n",
    "\n",
    "\"\"\"\n",
    "\n",
    "\n",
    "cursor.execute(create_artist_sales_view)\n",
    "conn.commit()"
   ]
  },
  {
   "cell_type": "code",
   "execution_count": null,
   "id": "3d762c60",
   "metadata": {},
   "outputs": [],
   "source": []
  }
 ],
 "metadata": {
  "kernelspec": {
   "display_name": "Python 3.9.7 64-bit",
   "language": "python",
   "name": "python3"
  },
  "language_info": {
   "codemirror_mode": {
    "name": "ipython",
    "version": 3
   },
   "file_extension": ".py",
   "mimetype": "text/x-python",
   "name": "python",
   "nbconvert_exporter": "python",
   "pygments_lexer": "ipython3",
   "version": "3.9.7"
  },
  "vscode": {
   "interpreter": {
    "hash": "9e3bfd5707cea17bcbe380e30b983be31a9c4e73ed42697506103186bbe325e5"
   }
  }
 },
 "nbformat": 4,
 "nbformat_minor": 5
}
